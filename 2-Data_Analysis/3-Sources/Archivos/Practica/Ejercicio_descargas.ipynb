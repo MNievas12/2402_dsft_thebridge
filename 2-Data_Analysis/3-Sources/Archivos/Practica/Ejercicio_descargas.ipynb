{
 "cells": [
  {
   "attachments": {},
   "cell_type": "markdown",
   "metadata": {},
   "source": [
    "## Ejercicio descargas"
   ]
  },
  {
   "attachments": {},
   "cell_type": "markdown",
   "metadata": {},
   "source": [
    "Python es un lenguaje de propósito general, por lo que podemos desarrollar otros programas,\n",
    "aparte de ciencia de datos, que nos permitan montar dashboards, crear APIs o automatizar\n",
    "procesos. En este caso vas a automatizar un proceso, en el que tendrás que desarrollar un\n",
    "script que ordene todos los archivos de una carpeta, dependiendo de la extensión de los\n",
    "mismos.\n",
    "\n",
    "\n",
    "El objetivo es ordenar la típica carpeta de cajón desastre donde se nos acumulan archivos de\n",
    "todos los formatos como: imágenes, words, presentaciones, excels, ejecutables, zips, etc... Y\n",
    "que no vamos a ir viendo archivo a archivo, ordenándolos.... La solución suele ser eliminarlo\n",
    "todo. Vamos a intentar no tener que llegar a eso, ordenando los ficheros automáticamente en\n",
    "carpetas y revisar las que nos interesen. La típica carpeta donde aplicaríamos este programa es\n",
    "la de “Descargas”, donde se suelen acumular muchos archivos temporales.\n",
    "\n",
    "\n",
    "Por tanto, **el programa tiene que guardar los archivos de la carpeta “Descargas” (o cualquier\n",
    "otra donde acumules mucho archivo temporal) en los siguientes directorios dentro de la\n",
    "propia carpeta “Descargas”**:\n",
    "- Imagenes\n",
    "- Documentos\n",
    "- Software\n",
    "- Otros\n",
    "\n",
    "Cada vez que ejecutes el script, automáticamente se ordenarán todos los archivos en sus\n",
    "correspondientes carpetas.\n"
   ]
  },
  {
   "cell_type": "code",
   "execution_count": 1,
   "metadata": {},
   "outputs": [],
   "source": [
    "doc_types = ('.doc', '.docx', '.txt', '.pdf', '.xls', '.ppt', '.xlsx', '.pptx')\n",
    "img_types = ('.jpg', '.jpeg', '.png', '.svg', '.gif')\n",
    "software_types = ('.exe', '.py','.ipynb')"
   ]
  },
  {
   "attachments": {},
   "cell_type": "markdown",
   "metadata": {},
   "source": [
    "### 1. Crea un un programa con el flujo principal y encapsúlalo en funciones."
   ]
  },
  {
   "cell_type": "code",
   "execution_count": 5,
   "metadata": {},
   "outputs": [],
   "source": [
    "import os\n",
    "import shutil"
   ]
  },
  {
   "cell_type": "code",
   "execution_count": 3,
   "metadata": {},
   "outputs": [
    {
     "data": {
      "text/plain": [
       "'d:\\\\Bootcamp\\\\Carpeta_profesor\\\\2402_dsft_thebridge\\\\2-Data_Analysis\\\\3-Sources\\\\Archivos\\\\Practica'"
      ]
     },
     "execution_count": 3,
     "metadata": {},
     "output_type": "execute_result"
    }
   ],
   "source": [
    "os.getcwd()"
   ]
  },
  {
   "cell_type": "code",
   "execution_count": 4,
   "metadata": {},
   "outputs": [
    {
     "data": {
      "text/plain": [
       "['Ejercicio_descargas.ipynb']"
      ]
     },
     "execution_count": 4,
     "metadata": {},
     "output_type": "execute_result"
    }
   ],
   "source": [
    "os.listdir()"
   ]
  },
  {
   "cell_type": "code",
   "execution_count": 9,
   "metadata": {},
   "outputs": [
    {
     "data": {
      "text/plain": [
       "'d:\\\\Bootcamp\\\\Carpeta_profesor\\\\2402_dsft_thebridge\\\\2-Data_Analysis\\\\3-Sources\\\\Archivos\\\\Practica\\\\carpeta_ejercicio'"
      ]
     },
     "execution_count": 9,
     "metadata": {},
     "output_type": "execute_result"
    }
   ],
   "source": [
    "ruta = os.path.join(os.getcwd(),  \"carpeta_ejercicio\")\n",
    "ruta"
   ]
  },
  {
   "cell_type": "code",
   "execution_count": 10,
   "metadata": {},
   "outputs": [
    {
     "data": {
      "text/plain": [
       "['60144.csv',\n",
       " 'chromedriver-win64.zip',\n",
       " 'dataset-thumbnail.jpeg',\n",
       " 'laliga.xlsx',\n",
       " 'Lectura_Escritura.ipynb']"
      ]
     },
     "execution_count": 10,
     "metadata": {},
     "output_type": "execute_result"
    }
   ],
   "source": [
    "os.listdir(ruta)"
   ]
  },
  {
   "cell_type": "code",
   "execution_count": 11,
   "metadata": {},
   "outputs": [
    {
     "name": "stdout",
     "output_type": "stream",
     "text": [
      "60144.csv\n",
      "chromedriver-win64.zip\n",
      "dataset-thumbnail.jpeg\n",
      "laliga.xlsx\n",
      "Lectura_Escritura.ipynb\n"
     ]
    }
   ],
   "source": [
    "for archivo in os.listdir(ruta):\n",
    "    print(archivo)"
   ]
  },
  {
   "cell_type": "code",
   "execution_count": 14,
   "metadata": {},
   "outputs": [
    {
     "name": "stdout",
     "output_type": "stream",
     "text": [
      "d:\\Bootcamp\\Carpeta_profesor\\2402_dsft_thebridge\\2-Data_Analysis\\3-Sources\\Archivos\\Practica\\carpeta_ejercicio\n"
     ]
    }
   ],
   "source": [
    "os.chdir(ruta)\n",
    "print(os.getcwd())"
   ]
  },
  {
   "cell_type": "code",
   "execution_count": 38,
   "metadata": {},
   "outputs": [],
   "source": [
    "# os.mkdir(\"Imagenes\")\n",
    "os.makedirs(\"Documentos\", exist_ok = True)\n",
    "os.makedirs(\"Imagenes\", exist_ok = True)\n",
    "os.makedirs(\"Software\", exist_ok = True)\n",
    "os.makedirs(\"Otros\", exist_ok = True)"
   ]
  },
  {
   "cell_type": "code",
   "execution_count": 41,
   "metadata": {},
   "outputs": [
    {
     "data": {
      "text/plain": [
       "'Software'"
      ]
     },
     "execution_count": 41,
     "metadata": {},
     "output_type": "execute_result"
    }
   ],
   "source": [
    "archivo"
   ]
  },
  {
   "cell_type": "code",
   "execution_count": 48,
   "metadata": {},
   "outputs": [
    {
     "data": {
      "text/plain": [
       "True"
      ]
     },
     "execution_count": 48,
     "metadata": {},
     "output_type": "execute_result"
    }
   ],
   "source": [
    "os.path.isdir(os.path.join(ruta+\"\\\\Software\"))"
   ]
  },
  {
   "cell_type": "code",
   "execution_count": 50,
   "metadata": {},
   "outputs": [
    {
     "name": "stdout",
     "output_type": "stream",
     "text": [
      "es un archivo\n",
      "es un archivo\n",
      "es un archivo\n",
      "es una carpeta\n",
      "es una carpeta\n",
      "es un archivo\n",
      "es un archivo\n",
      "es una carpeta\n",
      "es una carpeta\n"
     ]
    }
   ],
   "source": [
    "for archivo in os.listdir(ruta):\n",
    "    # print(archivo)\n",
    "    if os.path.isdir(os.path.join(ruta + f\"\\\\{archivo}\")):\n",
    "        print(\"es una carpeta\")\n",
    "    else:\n",
    "        print(\"es un archivo\")"
   ]
  },
  {
   "cell_type": "code",
   "execution_count": 52,
   "metadata": {},
   "outputs": [
    {
     "data": {
      "text/plain": [
       "'d:\\\\Bootcamp\\\\Carpeta_profesor\\\\2402_dsft_thebridge\\\\2-Data_Analysis\\\\3-Sources\\\\Archivos\\\\Practica\\\\carpeta_ejercicio\\\\Lectura_Escritura.ipynb'"
      ]
     },
     "execution_count": 52,
     "metadata": {},
     "output_type": "execute_result"
    }
   ],
   "source": [
    "shutil.move(ruta + \"\\\\Software\" + \"\\\\Lectura_Escritura.ipynb\", ruta)"
   ]
  },
  {
   "cell_type": "code",
   "execution_count": 54,
   "metadata": {},
   "outputs": [
    {
     "name": "stdout",
     "output_type": "stream",
     "text": [
      "60144.csv es otro archivo\n",
      "chromedriver-win64.zip es otro archivo\n",
      "dataset-thumbnail.jpeg es una imagen\n",
      "Documentos Es una carpeta\n",
      "Imagenes Es una carpeta\n",
      "laliga.xlsx es un documento\n",
      "Lectura_Escritura.ipynb es un software\n",
      "Otros Es una carpeta\n",
      "Software Es una carpeta\n"
     ]
    }
   ],
   "source": [
    "for archivo in os.listdir(ruta):\n",
    "    if os.path.isdir(os.path.join(ruta + f\"\\\\{archivo}\")):\n",
    "        print(archivo, \"Es una carpeta\")\n",
    "    elif archivo.endswith(doc_types):\n",
    "        print(archivo, \"es un documento\")\n",
    "        shutil.move(ruta + f\"\\\\{archivo}\", ruta + \"\\\\Documentos\")\n",
    "    elif archivo.endswith(img_types):\n",
    "        print(archivo, \"es una imagen\")\n",
    "        shutil.move(ruta + f\"\\\\{archivo}\", ruta + \"\\\\Imagenes\")\n",
    "    elif archivo.endswith(software_types):\n",
    "        print(archivo, \"es un software\")\n",
    "        shutil.move(ruta + f\"\\\\{archivo}\", ruta + \"\\\\Software\")\n",
    "    else:\n",
    "        print(archivo, \"es otro archivo\")\n",
    "        shutil.move(ruta + f\"\\\\{archivo}\", ruta + \"\\\\Otros\")"
   ]
  },
  {
   "cell_type": "code",
   "execution_count": 59,
   "metadata": {},
   "outputs": [],
   "source": [
    "categorias = {\"Imagenes\": ('.jpg', '.jpeg', '.png', '.svg', '.gif'),\n",
    "              \"Documentos\": ('.doc', '.docx', '.txt', '.pdf', '.xls', '.ppt', '.xlsx', '.pptx'),\n",
    "              \"Software\": ('.exe', '.py','.ipynb')}"
   ]
  },
  {
   "cell_type": "code",
   "execution_count": 61,
   "metadata": {},
   "outputs": [],
   "source": [
    "def ordenar_carpeta(carpeta, categorias):\n",
    "    for categoria in categorias:\n",
    "        os.makedirs(categoria, exist_ok = True)\n",
    "    os.makedirs(\"Otros\", exist_ok = True)\n",
    "    \n",
    "    os.chdir(carpeta)\n",
    "    for archivo in os.listdir(carpeta):\n",
    "        if os.path.isdir(os.path.join(ruta + f\"\\\\{archivo}\")):\n",
    "            # print(archivo, \"Es una carpeta\")\n",
    "            pass\n",
    "        elif archivo.endswith(categorias['Documentos']):\n",
    "            # print(archivo, \"es un documento\")\n",
    "            shutil.move(ruta + f\"\\\\{archivo}\", ruta + \"\\\\Documentos\")\n",
    "        elif archivo.endswith(categorias['Imagenes']):\n",
    "            # print(archivo, \"es una imagen\")\n",
    "            shutil.move(ruta + f\"\\\\{archivo}\", ruta + \"\\\\Imagenes\")\n",
    "        elif archivo.endswith(categorias['Software']):\n",
    "            # print(archivo, \"es un software\")\n",
    "            shutil.move(ruta + f\"\\\\{archivo}\", ruta + \"\\\\Software\")\n",
    "        else:\n",
    "            # print(archivo, \"es otro archivo\")\n",
    "            shutil.move(ruta + f\"\\\\{archivo}\", ruta + \"\\\\Otros\")"
   ]
  },
  {
   "cell_type": "code",
   "execution_count": 62,
   "metadata": {},
   "outputs": [],
   "source": [
    "def crear_carpetas(carpeta, categorias):\n",
    "    for categoria in categorias:\n",
    "        os.makedirs(categoria, exist_ok = True)\n",
    "    os.makedirs(\"Otros\", exist_ok = True)\n",
    "\n",
    "def mover_archivos(carpeta, categorias):\n",
    "    os.chdir(carpeta)\n",
    "    for archivo in os.listdir(carpeta):\n",
    "        if os.path.isdir(os.path.join(ruta + f\"\\\\{archivo}\")):\n",
    "            # print(archivo, \"Es una carpeta\")\n",
    "            pass\n",
    "        elif archivo.endswith(categorias['Documentos']):\n",
    "            # print(archivo, \"es un documento\")\n",
    "            shutil.move(ruta + f\"\\\\{archivo}\", ruta + \"\\\\Documentos\")\n",
    "        elif archivo.endswith(categorias['Imagenes']):\n",
    "            # print(archivo, \"es una imagen\")\n",
    "            shutil.move(ruta + f\"\\\\{archivo}\", ruta + \"\\\\Imagenes\")\n",
    "        elif archivo.endswith(categorias['Software']):\n",
    "            # print(archivo, \"es un software\")\n",
    "            shutil.move(ruta + f\"\\\\{archivo}\", ruta + \"\\\\Software\")\n",
    "        else:\n",
    "            # print(archivo, \"es otro archivo\")\n",
    "            shutil.move(ruta + f\"\\\\{archivo}\", ruta + \"\\\\Otros\")\n",
    "    "
   ]
  },
  {
   "cell_type": "code",
   "execution_count": 63,
   "metadata": {},
   "outputs": [],
   "source": [
    "def ordenar_carpeta(carpeta, categorias):\n",
    "    crear_carpetas(carpeta, categorias)\n",
    "    mover_archivos(carpeta, categorias)"
   ]
  },
  {
   "cell_type": "code",
   "execution_count": 58,
   "metadata": {},
   "outputs": [
    {
     "data": {
      "text/plain": [
       "'d:\\\\Bootcamp\\\\Carpeta_profesor\\\\2402_dsft_thebridge\\\\2-Data_Analysis\\\\3-Sources\\\\Archivos\\\\Practica\\\\carpeta_ejercicio'"
      ]
     },
     "execution_count": 58,
     "metadata": {},
     "output_type": "execute_result"
    }
   ],
   "source": [
    "os.getcwd()"
   ]
  },
  {
   "cell_type": "code",
   "execution_count": 60,
   "metadata": {},
   "outputs": [],
   "source": [
    "ordenar_carpeta(os.getcwd(), categorias)"
   ]
  },
  {
   "attachments": {},
   "cell_type": "markdown",
   "metadata": {},
   "source": [
    "### 2. Crea una clase Fichero en clase.py y un main.py con el programa principal partiendo de esa clase."
   ]
  },
  {
   "cell_type": "code",
   "execution_count": null,
   "metadata": {},
   "outputs": [],
   "source": []
  }
 ],
 "metadata": {
  "kernelspec": {
   "display_name": "Python 3.7.4 64-bit",
   "language": "python",
   "name": "python3"
  },
  "language_info": {
   "codemirror_mode": {
    "name": "ipython",
    "version": 3
   },
   "file_extension": ".py",
   "mimetype": "text/x-python",
   "name": "python",
   "nbconvert_exporter": "python",
   "pygments_lexer": "ipython3",
   "version": "3.11.3"
  },
  "orig_nbformat": 4,
  "vscode": {
   "interpreter": {
    "hash": "90139cb9a825bf3d63f6f6704e828dbd1ff7edbd4d0c6e906a71235d6efc74af"
   }
  }
 },
 "nbformat": 4,
 "nbformat_minor": 2
}
