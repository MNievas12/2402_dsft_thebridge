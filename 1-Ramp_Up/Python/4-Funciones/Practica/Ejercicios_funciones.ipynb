{
 "cells": [
  {
   "cell_type": "markdown",
   "metadata": {},
   "source": [
    "![imagen](./img/ejercicios.png)"
   ]
  },
  {
   "cell_type": "markdown",
   "metadata": {},
   "source": [
    "# Ejercicios funciones\n",
    "## Ejercicio 1\n",
    "Escribe una función que convierta números del 1 al 7 en nombres de los dias de la semana. La función constará de un único argumento numérico y una salida de tipo string"
   ]
  },
  {
   "cell_type": "code",
   "execution_count": 3,
   "metadata": {},
   "outputs": [
    {
     "name": "stdout",
     "output_type": "stream",
     "text": [
      "Día erróneo\n"
     ]
    }
   ],
   "source": [
    "dia = 9\n",
    "\n",
    "if dia == 1:\n",
    "    out = \"Lunes\"\n",
    "elif dia == 2:\n",
    "    out = \"Martes\"\n",
    "elif dia == 3:\n",
    "    out = \"Miércoles\"\n",
    "elif dia == 4:\n",
    "    out = \"Jueves\"\n",
    "elif dia == 5:\n",
    "    out = \"Viernes\"\n",
    "elif dia == 6:\n",
    "    out = \"Sábado\"\n",
    "elif dia == 7:\n",
    "    out = \"Domingo\"\n",
    "else:\n",
    "    out = \"Día erróneo\"\n",
    "\n",
    "print(out)\n"
   ]
  },
  {
   "cell_type": "code",
   "execution_count": 11,
   "metadata": {},
   "outputs": [
    {
     "name": "stdout",
     "output_type": "stream",
     "text": [
      "Día erróneo\n"
     ]
    }
   ],
   "source": [
    "dia = 9\n",
    "\n",
    "match dia:\n",
    "    case 1:\n",
    "        out = \"Lunes\"\n",
    "    case 2:\n",
    "        out = \"Martes\"\n",
    "    case 3:\n",
    "        out = \"Miércoles\"\n",
    "    case 4:\n",
    "        out = \"Jueves\"\n",
    "    case 5:\n",
    "        out = \"Viernes\"\n",
    "    case 6:\n",
    "        out = \"Sábado\"\n",
    "    case  7:\n",
    "        out = \"Domingo\"\n",
    "    case _:\n",
    "        out = \"Día erróneo\"\n",
    "\n",
    "print(out)\n"
   ]
  },
  {
   "cell_type": "code",
   "execution_count": 16,
   "metadata": {},
   "outputs": [
    {
     "name": "stdout",
     "output_type": "stream",
     "text": [
      "Día erróneo\n"
     ]
    }
   ],
   "source": [
    "dias_semana = {1: \"Lunes\",\n",
    "               2: \"Martes\",\n",
    "               3: \"Miércoles\",\n",
    "               4: \"Jueves\",\n",
    "               5: \"Viernes\",\n",
    "               6: \"Sábado\",\n",
    "               7: \"Domingo\"}\n",
    "dia = 8\n",
    "\n",
    "print(dias_semana.get(dia, \"Día erróneo\"))"
   ]
  },
  {
   "cell_type": "code",
   "execution_count": 18,
   "metadata": {},
   "outputs": [],
   "source": [
    "def ejercicio_1(dia):\n",
    "    dias_semana = {1: \"Lunes\",\n",
    "               2: \"Martes\",\n",
    "               3: \"Miércoles\",\n",
    "               4: \"Jueves\",\n",
    "               5: \"Viernes\",\n",
    "               6: \"Sábado\",\n",
    "               7: \"Domingo\"}\n",
    "    return dias_semana.get(dia, \"Día erróneo\")"
   ]
  },
  {
   "cell_type": "code",
   "execution_count": 19,
   "metadata": {},
   "outputs": [
    {
     "data": {
      "text/plain": [
       "'Miércoles'"
      ]
     },
     "execution_count": 19,
     "metadata": {},
     "output_type": "execute_result"
    }
   ],
   "source": [
    "ejercicio_1(3)"
   ]
  },
  {
   "cell_type": "code",
   "execution_count": 20,
   "metadata": {},
   "outputs": [
    {
     "data": {
      "text/plain": [
       "'Sábado'"
      ]
     },
     "execution_count": 20,
     "metadata": {},
     "output_type": "execute_result"
    }
   ],
   "source": [
    "ejercicio_1(6)"
   ]
  },
  {
   "cell_type": "code",
   "execution_count": 21,
   "metadata": {},
   "outputs": [
    {
     "data": {
      "text/plain": [
       "'Día erróneo'"
      ]
     },
     "execution_count": 21,
     "metadata": {},
     "output_type": "execute_result"
    }
   ],
   "source": [
    "ejercicio_1(65.8)"
   ]
  },
  {
   "cell_type": "code",
   "execution_count": 35,
   "metadata": {},
   "outputs": [],
   "source": [
    "def ejercicio_1(dia, dias_semana={1: \"Lunes\", 2: \"Martes\",3: \"Miércoles\",4: \"Jueves\",5: \"Viernes\",6: \"Sábado\",7: \"Domingo\"}):\n",
    "    return dias_semana.get(dia, \"Día erróneo\")"
   ]
  },
  {
   "cell_type": "code",
   "execution_count": 36,
   "metadata": {},
   "outputs": [
    {
     "data": {
      "text/plain": [
       "'Wednesday'"
      ]
     },
     "execution_count": 36,
     "metadata": {},
     "output_type": "execute_result"
    }
   ],
   "source": [
    "ejercicio_1(3, {1: \"Monday\",\n",
    "            2: \"Tuesday\",\n",
    "            3: \"Wednesday\",\n",
    "            4: \"Thursday\",\n",
    "            5: \"Friday\",\n",
    "            6: \"Saturday\",\n",
    "            7: \"Sunday\"})"
   ]
  },
  {
   "cell_type": "code",
   "execution_count": 37,
   "metadata": {},
   "outputs": [
    {
     "data": {
      "text/plain": [
       "'Miércoles'"
      ]
     },
     "execution_count": 37,
     "metadata": {},
     "output_type": "execute_result"
    }
   ],
   "source": [
    "ejercicio_1(3)"
   ]
  },
  {
   "cell_type": "markdown",
   "metadata": {},
   "source": [
    "## Ejercicio 2\n",
    "En el ejercicio 8 de flujos de control, creábamos una pirámide invertida de números desde el 5. Crea una función que replique el comportamiento de la pirámide, y utiliza un único parámetro de entrada de la función para determinar el número de filas de la pirámide."
   ]
  },
  {
   "cell_type": "code",
   "execution_count": 45,
   "metadata": {},
   "outputs": [
    {
     "name": "stdout",
     "output_type": "stream",
     "text": [
      "5 4 3 2 1\n",
      "4 3 2 1\n",
      "3 2 1\n",
      "2 1\n",
      "1\n"
     ]
    }
   ],
   "source": [
    "lista_8 = list(range(5,0,-1))\n",
    "while len(lista_8) > 0:\n",
    "    print(*lista_8)\n",
    "    lista_8.pop(0)"
   ]
  },
  {
   "cell_type": "code",
   "execution_count": 61,
   "metadata": {},
   "outputs": [],
   "source": [
    "def ejercicio_2(tamaño:int=5):\n",
    "    lista_8 = list(range(int(tamaño),0,-1))\n",
    "    while len(lista_8) > 0:\n",
    "        print(*lista_8)\n",
    "        lista_8.pop(0)"
   ]
  },
  {
   "cell_type": "code",
   "execution_count": 58,
   "metadata": {},
   "outputs": [
    {
     "name": "stdout",
     "output_type": "stream",
     "text": [
      "5 4 3 2 1\n",
      "4 3 2 1\n",
      "3 2 1\n",
      "2 1\n",
      "1\n"
     ]
    }
   ],
   "source": [
    "ejercicio_2(5)"
   ]
  },
  {
   "cell_type": "code",
   "execution_count": 51,
   "metadata": {},
   "outputs": [
    {
     "name": "stdout",
     "output_type": "stream",
     "text": [
      "2 1\n",
      "1\n"
     ]
    }
   ],
   "source": [
    "ejercicio_2(2)"
   ]
  },
  {
   "cell_type": "code",
   "execution_count": 52,
   "metadata": {},
   "outputs": [
    {
     "name": "stdout",
     "output_type": "stream",
     "text": [
      "26 25 24 23 22 21 20 19 18 17 16 15 14 13 12 11 10 9 8 7 6 5 4 3 2 1\n",
      "25 24 23 22 21 20 19 18 17 16 15 14 13 12 11 10 9 8 7 6 5 4 3 2 1\n",
      "24 23 22 21 20 19 18 17 16 15 14 13 12 11 10 9 8 7 6 5 4 3 2 1\n",
      "23 22 21 20 19 18 17 16 15 14 13 12 11 10 9 8 7 6 5 4 3 2 1\n",
      "22 21 20 19 18 17 16 15 14 13 12 11 10 9 8 7 6 5 4 3 2 1\n",
      "21 20 19 18 17 16 15 14 13 12 11 10 9 8 7 6 5 4 3 2 1\n",
      "20 19 18 17 16 15 14 13 12 11 10 9 8 7 6 5 4 3 2 1\n",
      "19 18 17 16 15 14 13 12 11 10 9 8 7 6 5 4 3 2 1\n",
      "18 17 16 15 14 13 12 11 10 9 8 7 6 5 4 3 2 1\n",
      "17 16 15 14 13 12 11 10 9 8 7 6 5 4 3 2 1\n",
      "16 15 14 13 12 11 10 9 8 7 6 5 4 3 2 1\n",
      "15 14 13 12 11 10 9 8 7 6 5 4 3 2 1\n",
      "14 13 12 11 10 9 8 7 6 5 4 3 2 1\n",
      "13 12 11 10 9 8 7 6 5 4 3 2 1\n",
      "12 11 10 9 8 7 6 5 4 3 2 1\n",
      "11 10 9 8 7 6 5 4 3 2 1\n",
      "10 9 8 7 6 5 4 3 2 1\n",
      "9 8 7 6 5 4 3 2 1\n",
      "8 7 6 5 4 3 2 1\n",
      "7 6 5 4 3 2 1\n",
      "6 5 4 3 2 1\n",
      "5 4 3 2 1\n",
      "4 3 2 1\n",
      "3 2 1\n",
      "2 1\n",
      "1\n"
     ]
    }
   ],
   "source": [
    "ejercicio_2(26)"
   ]
  },
  {
   "cell_type": "code",
   "execution_count": 63,
   "metadata": {},
   "outputs": [
    {
     "name": "stdout",
     "output_type": "stream",
     "text": [
      "5 4 3 2 1\n",
      "4 3 2 1\n",
      "3 2 1\n",
      "2 1\n",
      "1\n"
     ]
    }
   ],
   "source": [
    "ejercicio_2(input(\"Introduzca un tamaño\"))"
   ]
  },
  {
   "cell_type": "markdown",
   "metadata": {},
   "source": [
    "## Ejercicio 3\n",
    "Escribe una función que compare dos números. La función tiene dos argumentos y hay tres salidas posibles: que sean iguales, que el primero sea  mayor que el segundo, o que el segundo sea mayor que el primero"
   ]
  },
  {
   "cell_type": "code",
   "execution_count": 68,
   "metadata": {},
   "outputs": [
    {
     "name": "stdout",
     "output_type": "stream",
     "text": [
      "Primer número mayor que segundo\n"
     ]
    }
   ],
   "source": [
    "num_1 = 6\n",
    "num_2 = 3\n",
    "\n",
    "if num_1 == num_2:\n",
    "    out = \"Son iguales\"\n",
    "elif num_1 > num_2:\n",
    "    out = \"Primer número mayor que segundo\"\n",
    "else:\n",
    "    out = \"Segundo número mayor que primero\"\n",
    "\n",
    "print(out)"
   ]
  },
  {
   "cell_type": "code",
   "execution_count": 69,
   "metadata": {},
   "outputs": [],
   "source": [
    "def ejercicio_3(num_1, num_2):\n",
    "    if num_1 == num_2:\n",
    "        out = \"Son iguales\"\n",
    "    elif num_1 > num_2:\n",
    "        out = \"Primer número mayor que segundo\"\n",
    "    else:\n",
    "        out = \"Segundo número mayor que primero\"\n",
    "    return out"
   ]
  },
  {
   "cell_type": "code",
   "execution_count": 70,
   "metadata": {},
   "outputs": [
    {
     "data": {
      "text/plain": [
       "'Segundo número mayor que primero'"
      ]
     },
     "execution_count": 70,
     "metadata": {},
     "output_type": "execute_result"
    }
   ],
   "source": [
    "ejercicio_3(4,8)"
   ]
  },
  {
   "cell_type": "code",
   "execution_count": 71,
   "metadata": {},
   "outputs": [
    {
     "data": {
      "text/plain": [
       "'Son iguales'"
      ]
     },
     "execution_count": 71,
     "metadata": {},
     "output_type": "execute_result"
    }
   ],
   "source": [
    "ejercicio_3(8,8)"
   ]
  },
  {
   "cell_type": "code",
   "execution_count": 72,
   "metadata": {},
   "outputs": [
    {
     "data": {
      "text/plain": [
       "'Primer número mayor que segundo'"
      ]
     },
     "execution_count": 72,
     "metadata": {},
     "output_type": "execute_result"
    }
   ],
   "source": [
    "ejercicio_3(13,8)"
   ]
  },
  {
   "cell_type": "code",
   "execution_count": 75,
   "metadata": {},
   "outputs": [
    {
     "name": "stdout",
     "output_type": "stream",
     "text": [
      "0\n",
      "Segundo número mayor que primero\n",
      "1\n",
      "Segundo número mayor que primero\n",
      "2\n",
      "Segundo número mayor que primero\n",
      "3\n",
      "Segundo número mayor que primero\n",
      "4\n",
      "Segundo número mayor que primero\n",
      "5\n",
      "Son iguales\n",
      "6\n",
      "Primer número mayor que segundo\n",
      "7\n",
      "Primer número mayor que segundo\n",
      "8\n",
      "Primer número mayor que segundo\n",
      "9\n",
      "Primer número mayor que segundo\n"
     ]
    }
   ],
   "source": [
    "for i in range(10):\n",
    "    print(i)\n",
    "    print(ejercicio_3(i,5))"
   ]
  },
  {
   "attachments": {},
   "cell_type": "markdown",
   "metadata": {},
   "source": [
    "## Ejercicio 4\n",
    "Escribe una función que sea un contador de letras. En el primer argumento tienes que introducir un texto, y el segundo que sea una letra que contar. La función tiene que devolver un entero con el número de veces que aparece esa letra, tanto mayúscula, como minúscula"
   ]
  },
  {
   "cell_type": "code",
   "execution_count": 82,
   "metadata": {},
   "outputs": [
    {
     "data": {
      "text/plain": [
       "1"
      ]
     },
     "execution_count": 82,
     "metadata": {},
     "output_type": "execute_result"
    }
   ],
   "source": [
    "frase = \"Lo primero de todo, cómo están los máquinas\"\n",
    "\n",
    "letra = \"l\"\n",
    "\n",
    "frase.count(letra)"
   ]
  },
  {
   "cell_type": "code",
   "execution_count": 84,
   "metadata": {},
   "outputs": [],
   "source": [
    "dict_vocales = {'á':'a',\n",
    "                'é':'e',\n",
    "                'í':'i',\n",
    "                'ó':'o',\n",
    "                'ú':'u'}\n",
    "\n",
    "frase = frase.lower()\n",
    "\n",
    "for clave, valor in dict_vocales.items():\n",
    "    frase = frase.replace(clave, valor)\n",
    "    "
   ]
  },
  {
   "cell_type": "code",
   "execution_count": 86,
   "metadata": {},
   "outputs": [],
   "source": [
    "for clave in dict_vocales:\n",
    "    frase = frase.replace(clave, dict_vocales[clave])"
   ]
  },
  {
   "cell_type": "code",
   "execution_count": 85,
   "metadata": {},
   "outputs": [
    {
     "name": "stdout",
     "output_type": "stream",
     "text": [
      "lo primero de todo, como estan los maquinas\n"
     ]
    }
   ],
   "source": [
    "print(frase)"
   ]
  },
  {
   "cell_type": "code",
   "execution_count": 87,
   "metadata": {},
   "outputs": [],
   "source": [
    "def ejercicio_4(frase, letra):\n",
    "    return frase.count(letra)"
   ]
  },
  {
   "cell_type": "code",
   "execution_count": 90,
   "metadata": {},
   "outputs": [
    {
     "data": {
      "text/plain": [
       "1"
      ]
     },
     "execution_count": 90,
     "metadata": {},
     "output_type": "execute_result"
    }
   ],
   "source": [
    "ejercicio_4(\"Hola mundo\", \"a\")"
   ]
  },
  {
   "cell_type": "code",
   "execution_count": 93,
   "metadata": {},
   "outputs": [],
   "source": [
    "def limpieza_texto(texto, dict_vocales={'á':'a',\n",
    "                                        'é':'e',\n",
    "                                        'í':'i',\n",
    "                                        'ó':'o',\n",
    "                                        'ú':'u'}):\n",
    "    texto = texto.lower()\n",
    "\n",
    "    for clave in dict_vocales:\n",
    "        texto = texto.replace(clave, dict_vocales[clave])\n",
    "    return texto"
   ]
  },
  {
   "cell_type": "code",
   "execution_count": 101,
   "metadata": {},
   "outputs": [],
   "source": [
    "for i in []:\n",
    "    print(i)"
   ]
  },
  {
   "cell_type": "code",
   "execution_count": 98,
   "metadata": {},
   "outputs": [],
   "source": [
    "def ejercicio_4(frase, letra):\n",
    "    frase = limpieza_texto(frase)\n",
    "    return frase.count(letra.lower())"
   ]
  },
  {
   "cell_type": "code",
   "execution_count": 100,
   "metadata": {},
   "outputs": [
    {
     "name": "stdout",
     "output_type": "stream",
     "text": [
      "3\n",
      "2\n"
     ]
    }
   ],
   "source": [
    "frase = \"Lo primero de todo, cómo están los máquinas\"\n",
    "\n",
    "print(ejercicio_4(frase, \"A\"))\n",
    "print(ejercicio_4(frase, \"l\"))"
   ]
  },
  {
   "cell_type": "markdown",
   "metadata": {},
   "source": [
    "## Ejercicio 5\n",
    "Escribe una función que tenga un único argumento, un string. La salida de la función tiene que ser un diccionario con el conteo de todas las letras de ese string, siendo la clave la letra y el valor el conteo."
   ]
  },
  {
   "cell_type": "code",
   "execution_count": 104,
   "metadata": {},
   "outputs": [
    {
     "data": {
      "text/plain": [
       "{'l': 2,\n",
       " 'o': 7,\n",
       " ' ': 7,\n",
       " 'p': 1,\n",
       " 'r': 2,\n",
       " 'i': 2,\n",
       " 'm': 3,\n",
       " 'e': 3,\n",
       " 'd': 2,\n",
       " 't': 2,\n",
       " ',': 1,\n",
       " 'c': 1,\n",
       " 's': 3,\n",
       " 'a': 3,\n",
       " 'n': 2,\n",
       " 'q': 1,\n",
       " 'u': 1}"
      ]
     },
     "execution_count": 104,
     "metadata": {},
     "output_type": "execute_result"
    }
   ],
   "source": [
    "frase = \"Lo primero de todo, cómo están los máquinas\"\n",
    "\n",
    "dict_conteo = {}\n",
    "frase = limpieza_texto(frase)\n",
    "\n",
    "for caracter in frase:\n",
    "    dict_conteo[caracter] = frase.count(caracter)\n",
    "\n",
    "dict_conteo"
   ]
  },
  {
   "cell_type": "code",
   "execution_count": 114,
   "metadata": {},
   "outputs": [
    {
     "data": {
      "text/plain": [
       "{'l': 2,\n",
       " 'o': 7,\n",
       " 'p': 1,\n",
       " 'r': 2,\n",
       " 'i': 2,\n",
       " 'm': 3,\n",
       " 'e': 3,\n",
       " 'd': 2,\n",
       " 't': 2,\n",
       " 'c': 1,\n",
       " 's': 3,\n",
       " 'a': 3,\n",
       " 'n': 2,\n",
       " 'q': 1,\n",
       " 'u': 1}"
      ]
     },
     "execution_count": 114,
     "metadata": {},
     "output_type": "execute_result"
    }
   ],
   "source": [
    "frase = \"Lo primero de todo, cómo están los máquinas\"\n",
    "\n",
    "dict_conteo = {}\n",
    "frase = limpieza_texto(frase)\n",
    "\n",
    "for caracter in frase:\n",
    "    if caracter not in dict_conteo.keys() and caracter not in [\" \", \",\"]:\n",
    "        dict_conteo[caracter] = frase.count(caracter)\n",
    "\n",
    "dict_conteo"
   ]
  },
  {
   "cell_type": "code",
   "execution_count": 115,
   "metadata": {},
   "outputs": [],
   "source": [
    "def ejercicio_5(frase):\n",
    "\n",
    "    dict_conteo = {}\n",
    "    frase = limpieza_texto(frase)\n",
    "\n",
    "    for caracter in frase:\n",
    "        if caracter not in dict_conteo.keys() and caracter not in [\" \", \",\"]:\n",
    "            dict_conteo[caracter] = frase.count(caracter)\n",
    "\n",
    "    return dict_conteo"
   ]
  },
  {
   "cell_type": "code",
   "execution_count": 116,
   "metadata": {},
   "outputs": [
    {
     "data": {
      "text/plain": [
       "{'h': 1, 'o': 2, 'l': 1, 'a': 1, 'm': 1, 'u': 1, 'n': 1, 'd': 1}"
      ]
     },
     "execution_count": 116,
     "metadata": {},
     "output_type": "execute_result"
    }
   ],
   "source": [
    "ejercicio_5(\"Hola mundo\")"
   ]
  },
  {
   "cell_type": "code",
   "execution_count": null,
   "metadata": {},
   "outputs": [],
   "source": [
    "# frase = \"Lo primero de todo, cómo están los máquinas\"\n",
    "\n",
    "# dict_conteo = {}\n",
    "# frase = limpieza_texto(frase)\n",
    "\n",
    "# for caracter in frase:\n",
    "#     if caracter in dict_conteo.keys() or caracter  in [\" \", \",\"]:\n",
    "#         pass\n",
    "#     else:\n",
    "#         dict_conteo[caracter] = frase.count(caracter)\n",
    "# dict_conteo"
   ]
  },
  {
   "cell_type": "markdown",
   "metadata": {},
   "source": [
    "## Ejercicio 6\n",
    "Escribir una función que añada o elimine elementos en una lista. La función necesita los siguientes argumentos:\n",
    "* lista: la lista donde se añadirán o eliminarán los elementos\n",
    "* comando: \"add\" o \"remove\"\n",
    "* elemento: Por defecto es None.\n",
    "\n",
    "Tendrá como salida la lista"
   ]
  },
  {
   "cell_type": "code",
   "execution_count": 117,
   "metadata": {},
   "outputs": [],
   "source": [
    "def ejercicio_6(lista, comando, elemento=None):\n",
    "    if comando == \"add\":\n",
    "        lista.append(elemento)\n",
    "    elif comando == \"remove\":\n",
    "        try:\n",
    "            lista.remove(elemento)\n",
    "        except:\n",
    "            print(\"El elemento no se encuentra en la lista\")\n",
    "    else:\n",
    "        print(\"Comando no reconocido\")\n",
    "    return lista"
   ]
  },
  {
   "cell_type": "code",
   "execution_count": 118,
   "metadata": {},
   "outputs": [
    {
     "data": {
      "text/plain": [
       "[1, 2, 3, 4]"
      ]
     },
     "execution_count": 118,
     "metadata": {},
     "output_type": "execute_result"
    }
   ],
   "source": [
    "ejercicio_6([1,2,3],\"add\", 4)"
   ]
  },
  {
   "cell_type": "code",
   "execution_count": 119,
   "metadata": {},
   "outputs": [
    {
     "name": "stdout",
     "output_type": "stream",
     "text": [
      "El elemento no se encuentra en la lista\n"
     ]
    },
    {
     "data": {
      "text/plain": [
       "[1, 2, 3]"
      ]
     },
     "execution_count": 119,
     "metadata": {},
     "output_type": "execute_result"
    }
   ],
   "source": [
    "ejercicio_6([1,2,3],\"remove\", 4)"
   ]
  },
  {
   "cell_type": "code",
   "execution_count": 122,
   "metadata": {},
   "outputs": [
    {
     "data": {
      "text/plain": [
       "[1, 3]"
      ]
     },
     "execution_count": 122,
     "metadata": {},
     "output_type": "execute_result"
    }
   ],
   "source": [
    "ejercicio_6([1,2,3],\"remove\", 2)"
   ]
  },
  {
   "cell_type": "code",
   "execution_count": 123,
   "metadata": {},
   "outputs": [
    {
     "name": "stdout",
     "output_type": "stream",
     "text": [
      "Comando no reconocido\n"
     ]
    },
    {
     "data": {
      "text/plain": [
       "[1, 2, 3]"
      ]
     },
     "execution_count": 123,
     "metadata": {},
     "output_type": "execute_result"
    }
   ],
   "source": [
    "ejercicio_6([1,2,3],\"hola\", 2)"
   ]
  },
  {
   "cell_type": "code",
   "execution_count": 124,
   "metadata": {},
   "outputs": [
    {
     "data": {
      "text/plain": [
       "[1, 2, 3, None]"
      ]
     },
     "execution_count": 124,
     "metadata": {},
     "output_type": "execute_result"
    }
   ],
   "source": [
    "ejercicio_6([1,2,3],\"add\")"
   ]
  },
  {
   "cell_type": "markdown",
   "metadata": {},
   "source": [
    "## Ejercicio 7\n",
    "Crea una función que reciba un número arbitrario de palabras, y devuelva una frase completa, separando las palabras con espacios."
   ]
  },
  {
   "cell_type": "code",
   "execution_count": 125,
   "metadata": {},
   "outputs": [
    {
     "data": {
      "text/plain": [
       "'Hola mundo'"
      ]
     },
     "execution_count": 125,
     "metadata": {},
     "output_type": "execute_result"
    }
   ],
   "source": [
    "\" \".join([\"Hola\", \"mundo\"])"
   ]
  },
  {
   "cell_type": "code",
   "execution_count": 140,
   "metadata": {},
   "outputs": [],
   "source": [
    "def ejercicio_7(*args):\n",
    "    return \" \".join(args)"
   ]
  },
  {
   "cell_type": "code",
   "execution_count": 134,
   "metadata": {},
   "outputs": [
    {
     "data": {
      "text/plain": [
       "'Hola que tal estás mundo'"
      ]
     },
     "execution_count": 134,
     "metadata": {},
     "output_type": "execute_result"
    }
   ],
   "source": [
    "\" \".join([[\"Hola\",\"que\",\"tal\", \"estás\", \"mundo\"]][0])"
   ]
  },
  {
   "cell_type": "code",
   "execution_count": 141,
   "metadata": {},
   "outputs": [
    {
     "data": {
      "text/plain": [
       "'Hola que tal estás mundo'"
      ]
     },
     "execution_count": 141,
     "metadata": {},
     "output_type": "execute_result"
    }
   ],
   "source": [
    "ejercicio_7(\"Hola\",\"que\",\"tal\", \"estás\", \"mundo\")"
   ]
  },
  {
   "cell_type": "markdown",
   "metadata": {},
   "source": [
    "## Ejercicio 8\n",
    "Escribe un programa que obtenga el enésimo número de la [serie de Fibonacci](https://es.wikipedia.org/wiki/Sucesi%C3%B3n_de_Fibonacci). Tienes que crear una función recursiva con un único argumento.\n",
    "\n",
    "```Python\n",
    "fibonacci(2) = 1\n",
    "fibonacci(4) = 3\n",
    "fibonacci(5) = 5\n",
    "fibonacci(8) = 21\n",
    "```"
   ]
  },
  {
   "cell_type": "markdown",
   "metadata": {},
   "source": [
    "fibonacci(n) = fibonacci(n-1) + fibonacci(n-2)"
   ]
  },
  {
   "cell_type": "code",
   "execution_count": 154,
   "metadata": {},
   "outputs": [],
   "source": [
    "def fibonacci(n):\n",
    "    if n == 0 or n == 1:\n",
    "        return n\n",
    "    return fibonacci(n-1) + fibonacci(n-2)"
   ]
  },
  {
   "cell_type": "code",
   "execution_count": null,
   "metadata": {},
   "outputs": [],
   "source": [
    "# fibonacci(3) = fibonacci(2) + fibonacci(1) = fibonacci(1) + fibonacci(0) + fibonacci(1) = 1 + 0 + 1 = 2\n",
    "# fibonacci(4) = fibonacci(3) + fibonacci(2) = 2 + fibonacci(1) + fibonacci(0) = 2 + 1 + 0 = 3"
   ]
  },
  {
   "cell_type": "code",
   "execution_count": 155,
   "metadata": {},
   "outputs": [
    {
     "data": {
      "text/plain": [
       "2"
      ]
     },
     "execution_count": 155,
     "metadata": {},
     "output_type": "execute_result"
    }
   ],
   "source": [
    "fibonacci(3)"
   ]
  },
  {
   "cell_type": "code",
   "execution_count": 156,
   "metadata": {},
   "outputs": [
    {
     "data": {
      "text/plain": [
       "3"
      ]
     },
     "execution_count": 156,
     "metadata": {},
     "output_type": "execute_result"
    }
   ],
   "source": [
    "fibonacci(4)"
   ]
  },
  {
   "cell_type": "code",
   "execution_count": 157,
   "metadata": {},
   "outputs": [
    {
     "data": {
      "text/plain": [
       "21"
      ]
     },
     "execution_count": 157,
     "metadata": {},
     "output_type": "execute_result"
    }
   ],
   "source": [
    "fibonacci(8)"
   ]
  },
  {
   "cell_type": "code",
   "execution_count": 159,
   "metadata": {},
   "outputs": [
    {
     "data": {
      "text/plain": [
       "832040"
      ]
     },
     "execution_count": 159,
     "metadata": {},
     "output_type": "execute_result"
    }
   ],
   "source": [
    "fibonacci(30)"
   ]
  },
  {
   "attachments": {},
   "cell_type": "markdown",
   "metadata": {},
   "source": [
    "## Ejercicio 9\n",
    "Define en una única celda las siguientes funciones:\n",
    "* Función que calcule el área de un cuadrado\n",
    "* Función que calcule el área de un triángulo\n",
    "* Función que calcule el área de un círculo\n",
    "\n",
    "En otra celda, calcular el area de:\n",
    "* Dos círculos de radio 10 + un triángulo de base 3 y altura 7\n",
    "* Un cuadrado de lado = 10 + 3 círculos (uno de radio = 4 y los otros dos de radio = 6) + 5 triángulos de base = 2 + altura = 4"
   ]
  },
  {
   "cell_type": "code",
   "execution_count": 143,
   "metadata": {},
   "outputs": [],
   "source": [
    "import math"
   ]
  },
  {
   "cell_type": "code",
   "execution_count": 152,
   "metadata": {},
   "outputs": [],
   "source": [
    "def cuadrado(l, n=1):\n",
    "    return round(n * l ** 2, 2)\n",
    "\n",
    "def triangulo(b, a):\n",
    "    return round(b * a / 2, 2)\n",
    "\n",
    "def circulo(r):\n",
    "    return round(math.pi * r ** 2, 2)"
   ]
  },
  {
   "cell_type": "code",
   "execution_count": 153,
   "metadata": {},
   "outputs": [
    {
     "name": "stdout",
     "output_type": "stream",
     "text": [
      "Resultado 1: 638.82\n",
      "Resultado 2: 396.47\n"
     ]
    }
   ],
   "source": [
    "print(\"Resultado 1:\", 2 * circulo(10) + triangulo(3,7))\n",
    "print(\"Resultado 2:\", cuadrado(10) + circulo(4) + 2 * circulo(6) + 5 * triangulo(2,4))"
   ]
  },
  {
   "cell_type": "markdown",
   "metadata": {},
   "source": [
    "## Ejercicio 10\n",
    "\n",
    "Guarda las funciones de estos ejercicios en un fichero llamado `funciones.py` e importalas desde este jupyter notebook para probar que puedes hacer uso de ellas."
   ]
  },
  {
   "cell_type": "code",
   "execution_count": null,
   "metadata": {},
   "outputs": [],
   "source": []
  }
 ],
 "metadata": {
  "kernelspec": {
   "display_name": "Python 3.7.4 64-bit",
   "language": "python",
   "name": "python3"
  },
  "language_info": {
   "codemirror_mode": {
    "name": "ipython",
    "version": 3
   },
   "file_extension": ".py",
   "mimetype": "text/x-python",
   "name": "python",
   "nbconvert_exporter": "python",
   "pygments_lexer": "ipython3",
   "version": "3.11.3"
  },
  "vscode": {
   "interpreter": {
    "hash": "90139cb9a825bf3d63f6f6704e828dbd1ff7edbd4d0c6e906a71235d6efc74af"
   }
  }
 },
 "nbformat": 4,
 "nbformat_minor": 4
}
