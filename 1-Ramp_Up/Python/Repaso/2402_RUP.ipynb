{
 "cells": [
  {
   "attachments": {},
   "cell_type": "markdown",
   "metadata": {},
   "source": [
    "# Test RAMP UP DS-FT Febrero 2024"
   ]
  },
  {
   "cell_type": "code",
   "execution_count": 1,
   "metadata": {},
   "outputs": [],
   "source": [
    "# Escribe tu nombre y apellidos (apellido si solo tienes uno) en las variables:\n",
    "nombre = \"Nombre\"\n",
    "apellidos = \"Apellidos\""
   ]
  },
  {
   "cell_type": "code",
   "execution_count": 2,
   "metadata": {},
   "outputs": [
    {
     "name": "stdout",
     "output_type": "stream",
     "text": [
      "Bienvenido Nombre Apellidos. Mucha suerte!\n"
     ]
    }
   ],
   "source": [
    "# Solo ejecutar\n",
    "nombre_apellidos = nombre + ' ' + apellidos\n",
    "print(\"Bienvenido\", nombre_apellidos + '. Mucha suerte!')"
   ]
  },
  {
   "cell_type": "code",
   "execution_count": 3,
   "metadata": {},
   "outputs": [
    {
     "name": "stdout",
     "output_type": "stream",
     "text": [
      "Antes de comenzar, cambia el nombre de este archivo notebook a Nombre_Apellidos.ipynb\n"
     ]
    }
   ],
   "source": [
    "# Solo ejecutar\n",
    "print('Antes de comenzar, cambia el nombre de este archivo notebook a', nombre_apellidos.replace(' ','_') + '.ipynb')"
   ]
  },
  {
   "attachments": {},
   "cell_type": "markdown",
   "metadata": {},
   "source": [
    "## Primera parte tipo test (3 puntos):\n",
    "\n",
    "**-->[Enlace al test](https://forms.gle/ieFsfaw3BTLnWGnQ7)<--**"
   ]
  },
  {
   "cell_type": "markdown",
   "metadata": {},
   "source": [
    "#### Notas y pruebas de apoyo para contestar las preguntas tipo test\n",
    "Esto no es necesario usarlo aunque verlo aquí te puede dar la respuesta a alguna de las preguntas tipo test.\n",
    "\n",
    "Cualquier código aunque no esté correcto nos dirá más de ti que no escribir nada. "
   ]
  },
  {
   "cell_type": "code",
   "execution_count": null,
   "metadata": {},
   "outputs": [],
   "source": [
    "# crea todas las celdas que necesites"
   ]
  },
  {
   "cell_type": "code",
   "execution_count": null,
   "metadata": {},
   "outputs": [],
   "source": [
    "# crea todas las celdas que necesites"
   ]
  },
  {
   "cell_type": "markdown",
   "metadata": {},
   "source": [
    "-----------------"
   ]
  },
  {
   "cell_type": "markdown",
   "metadata": {},
   "source": [
    "## Segunda parte ejercicios prácticos (7 puntos):\n"
   ]
  },
  {
   "cell_type": "code",
   "execution_count": null,
   "metadata": {},
   "outputs": [],
   "source": [
    "# No te olvides de documentar el código para dejar clara la lógica, sobre todo cuando no sale el resultado"
   ]
  },
  {
   "attachments": {},
   "cell_type": "markdown",
   "metadata": {},
   "source": [
    "### Ejercicio 1 (1 punto)\n",
    "En este ejercicio se va a crear una lista con los siguientes elementos. Primero, crearemos las variables que luego añadiremos a la lista. Las variables son las siguientes:\n",
    "\n",
    "1. Crea una variable llamada `dia` de tipo Integer que sea el día del mes. \n",
    "2. Crea una variable llamada `campus` de tipo String , con la ciudad donde está tu campus de The Bridge. \n",
    "3. Crea una variable llamada `altura` con el valor de tu altura en metros de tipo float.\n",
    "4. Crea una variable llamada `s_operativo` de tipo Boolean True si usas Windows y False si usas otro.\n",
    "5. Crea una variable llamada `nada` de tipo None cuyo valor sea None.\n",
    "6. Crea una variable llamada `lista_comidas` de tipo List que contenga 5 platos de comida. Cada elemento ha de ser de tipo String.\n",
    "7. Crea una variable llamada `tupla_cubiertos` de tipo Tuple con tres cubiertos que deben ser de tipo String cada uno.\n",
    "8. Crea una variable llamada `dict_discord`. Una key es `nombre`, teniendo como value el nombre de usuario en discord de tipo String. Otra key es la `room`, cuyo valor es un entero del número de la sala en la que te encuentras haciendo el examen.\n",
    "9. Añade todos estas variables en una lista llamada `lista_examen` en el orden del enunciado.\n",
    "10. Imprime por pantalla con un bucle for, el tipo de cada elemento de `lista_examen`."
   ]
  },
  {
   "cell_type": "code",
   "execution_count": 1,
   "metadata": {},
   "outputs": [
    {
     "name": "stdout",
     "output_type": "stream",
     "text": [
      "[19, 'Madrid', 1.8, True, None, ['Tortilla', 'Croquetas', 'Cocido', 'Pizza', 'Chuletas'], ('Cuchillo', 'Cuchara', 'Tenedor'), {'nombre': 'Miguel', 'room': 0}]\n"
     ]
    }
   ],
   "source": [
    "dia = 19\n",
    "campus = \"Madrid\"\n",
    "altura = 1.8\n",
    "s_operativo = True\n",
    "nada = None\n",
    "lista_comidas = [\"Tortilla\", \"Croquetas\", \"Cocido\", \"Pizza\", \"Chuletas\"]\n",
    "tupla_cubiertos = (\"Cuchillo\", \"Cuchara\", \"Tenedor\")\n",
    "dict_discord = {\"nombre\":\"Miguel\", \"room\":0}\n",
    "\n",
    "lista_examen = [dia, campus, altura, s_operativo, nada, lista_comidas, tupla_cubiertos, dict_discord]\n",
    "print(lista_examen)"
   ]
  },
  {
   "attachments": {},
   "cell_type": "markdown",
   "metadata": {},
   "source": [
    "### Ejercicio 2 (2 puntos)\n",
    "\n",
    "Para resolver este ejercicio necesitarás la lista del ejercicio anterior (`lista_examen`). Se recomienda leer cada punto hasta el final antes de resolver el ejercicio.\n",
    "\n",
    "Se repite para que quede aún más claro: **SOLO USAR LA VARIABLE** `lista_examen`. Usar otra variable se calificará como error.  "
   ]
  },
  {
   "attachments": {},
   "cell_type": "markdown",
   "id": "ff4becae-86c4-46ab-9e09-3aeec5296700",
   "metadata": {},
   "source": [
    "1. Guardar en las variables que aparecen como `res2x`, lo siguiente: (0.5)\n",
    "    - `res21` El tercer cubierto.\n",
    "    - `res22` La penúltima comida.\n",
    "    - `res23` Una lista del segundo al quinto elemento incluidos ambos.\n",
    "    - `res24` Una tupla con los valores del diccionario de discord.\n",
    "    - `res25` Los 4 primeros caracteres del valor del nombre de tu discord.\n"
   ]
  },
  {
   "cell_type": "code",
   "execution_count": 2,
   "metadata": {},
   "outputs": [
    {
     "name": "stdout",
     "output_type": "stream",
     "text": [
      "Tenedor\n"
     ]
    }
   ],
   "source": [
    "res21 = lista_examen[6][2]\n",
    "print(res21)"
   ]
  },
  {
   "cell_type": "code",
   "execution_count": 3,
   "metadata": {},
   "outputs": [
    {
     "name": "stdout",
     "output_type": "stream",
     "text": [
      "Pizza\n"
     ]
    }
   ],
   "source": [
    "res22 = lista_examen[5][-2]\n",
    "print(res22)"
   ]
  },
  {
   "cell_type": "code",
   "execution_count": 4,
   "metadata": {},
   "outputs": [
    {
     "name": "stdout",
     "output_type": "stream",
     "text": [
      "['Madrid', 1.8, True, None]\n"
     ]
    }
   ],
   "source": [
    "res23 = lista_examen[1:5]\n",
    "print(res23)"
   ]
  },
  {
   "cell_type": "code",
   "execution_count": 5,
   "metadata": {},
   "outputs": [
    {
     "name": "stdout",
     "output_type": "stream",
     "text": [
      "('Miguel', 0)\n"
     ]
    }
   ],
   "source": [
    "res24 = tuple(lista_examen[-1].values())\n",
    "print(res24)"
   ]
  },
  {
   "cell_type": "code",
   "execution_count": 7,
   "metadata": {},
   "outputs": [
    {
     "name": "stdout",
     "output_type": "stream",
     "text": [
      "Migu\n"
     ]
    }
   ],
   "source": [
    "res25 = lista_examen[-1]['nombre'][0:4]\n",
    "print(res25)"
   ]
  },
  {
   "attachments": {},
   "cell_type": "markdown",
   "metadata": {},
   "source": [
    "    \n",
    "2. Mostrar por pantalla, con uso de un bucle `for`. (0.75)\n",
    "    - Las posiciones y elementos de `lista_examen` de las posiciones impares.\n",
    "    - Los elementos que se encuentran dentro de las colecciones ordenadas de `lista_examen`."
   ]
  },
  {
   "cell_type": "code",
   "execution_count": 8,
   "metadata": {},
   "outputs": [
    {
     "name": "stdout",
     "output_type": "stream",
     "text": [
      "1 Madrid\n",
      "3 True\n",
      "5 ['Tortilla', 'Croquetas', 'Cocido', 'Pizza', 'Chuletas']\n",
      "7 {'nombre': 'Miguel', 'room': 0}\n"
     ]
    }
   ],
   "source": [
    "for i,value in enumerate(lista_examen):\n",
    "    if i % 2 == 1:\n",
    "        print(i, value)"
   ]
  },
  {
   "cell_type": "code",
   "execution_count": 11,
   "metadata": {},
   "outputs": [
    {
     "name": "stdout",
     "output_type": "stream",
     "text": [
      "Tortilla\n",
      "Croquetas\n",
      "Cocido\n",
      "Pizza\n",
      "Chuletas\n",
      "Cuchillo\n",
      "Cuchara\n",
      "Tenedor\n"
     ]
    }
   ],
   "source": [
    "for value in lista_examen:\n",
    "    if type(value) == list or type(value) == tuple:\n",
    "        for elem in value:\n",
    "            print(elem)"
   ]
  },
  {
   "attachments": {},
   "cell_type": "markdown",
   "metadata": {},
   "source": [
    "3. Con uso del bucle `while`, borra los platos de comida por el final hasta que tengas 2 platos, y guarda esos platos borrados en una nueva lista `platos_borrados` (0.75)"
   ]
  },
  {
   "cell_type": "code",
   "execution_count": null,
   "metadata": {},
   "outputs": [],
   "source": [
    "[1,2,3].pop(0)"
   ]
  },
  {
   "cell_type": "code",
   "execution_count": 12,
   "metadata": {},
   "outputs": [
    {
     "name": "stdout",
     "output_type": "stream",
     "text": [
      "['Chuletas', 'Pizza', 'Cocido']\n",
      "['Tortilla', 'Croquetas']\n"
     ]
    }
   ],
   "source": [
    "platos_borrados = []\n",
    "\n",
    "while len(lista_examen[5]) > 2:\n",
    "    platos_borrados.append(lista_examen[5].pop(-1))\n",
    "\n",
    "print(platos_borrados)\n",
    "print(lista_examen[5])"
   ]
  },
  {
   "cell_type": "markdown",
   "metadata": {},
   "source": [
    "### Ejercicio 3 (2 puntos)\n",
    "\n",
    "Dado el siguiente diccionario: \n",
    "\n",
    "```python\n",
    "paises = {\n",
    "    \"España\": {\n",
    "        \"capital\": \"Madrid\",\n",
    "        \"superficie\": 505992,\n",
    "        \"habitantes\": 46733038,\n",
    "        \"PIB\": 1478.02\n",
    "    },\n",
    "    \"Francia\": {\n",
    "        \"capital\": \"París\",\n",
    "        \"superficie\": 551695,\n",
    "        \"habitantes\": 67237407,\n",
    "        \"PIB\": 2826.29\n",
    "    },\n",
    "    \"Italia\": {\n",
    "        \"capital\": \"Roma\",\n",
    "        \"superficie\": 301340,\n",
    "        \"habitantes\": 60359546,\n",
    "        \"PIB\": 2099.32 \n",
    "    },\n",
    "    \"Portugal\": {\n",
    "        \"capital\": \"Lisboa\",\n",
    "        \"superficie\": 92212,\n",
    "        \"habitantes\": 10305564,\n",
    "        \"PIB\": 248.89\n",
    "    }\n",
    "}\n",
    "```"
   ]
  },
  {
   "cell_type": "markdown",
   "metadata": {},
   "source": [
    "1. Crea una función llamada `obtener_dato()` con tres argumentos de entrada, el diccionario `paises`, un string llamado `pais` y un string llamado `metrica`. Deberán devolver el valor correspondiente del diccionario. Documéntala"
   ]
  },
  {
   "cell_type": "code",
   "execution_count": 13,
   "metadata": {},
   "outputs": [],
   "source": [
    "paises = {\n",
    "    \"España\": {\n",
    "        \"capital\": \"Madrid\",\n",
    "        \"superficie\": 505992,\n",
    "        \"habitantes\": 46733038,\n",
    "        \"PIB\": 1478.02\n",
    "    },\n",
    "    \"Francia\": {\n",
    "        \"capital\": \"París\",\n",
    "        \"superficie\": 551695,\n",
    "        \"habitantes\": 67237407,\n",
    "        \"PIB\": 2826.29\n",
    "    },\n",
    "    \"Italia\": {\n",
    "        \"capital\": \"Roma\",\n",
    "        \"superficie\": 301340,\n",
    "        \"habitantes\": 60359546,\n",
    "        \"PIB\": 2099.32 \n",
    "    },\n",
    "    \"Portugal\": {\n",
    "        \"capital\": \"Lisboa\",\n",
    "        \"superficie\": 92212,\n",
    "        \"habitantes\": 10305564,\n",
    "        \"PIB\": 248.89\n",
    "    }\n",
    "}"
   ]
  },
  {
   "cell_type": "code",
   "execution_count": 17,
   "metadata": {},
   "outputs": [
    {
     "data": {
      "text/plain": [
       "'Madrid'"
      ]
     },
     "execution_count": 17,
     "metadata": {},
     "output_type": "execute_result"
    }
   ],
   "source": [
    "paises[\"España\"]['capital']"
   ]
  },
  {
   "cell_type": "code",
   "execution_count": 27,
   "metadata": {},
   "outputs": [
    {
     "data": {
      "text/plain": [
       "'Madrid'"
      ]
     },
     "execution_count": 27,
     "metadata": {},
     "output_type": "execute_result"
    }
   ],
   "source": [
    "paises.get('España', \"Pais no encontrado\").get('capital', \"Métrica no encontrado\")"
   ]
  },
  {
   "cell_type": "code",
   "execution_count": 22,
   "metadata": {},
   "outputs": [],
   "source": [
    "def obtener_dato(paises, pais, metrica):\n",
    "    return paises[pais][metrica]"
   ]
  },
  {
   "cell_type": "code",
   "execution_count": 34,
   "metadata": {},
   "outputs": [],
   "source": [
    "def obtener_dato(paises, pais, metrica):\n",
    "    out = paises.get(pais, \"Pais no encontrado\")\n",
    "    if type(out) == str:\n",
    "        return out\n",
    "    else: \n",
    "        out = paises.get(pais, \"Pais no encontrado\").get(metrica, \"Metrica no encontrada\")\n",
    "    return out"
   ]
  },
  {
   "cell_type": "code",
   "execution_count": 29,
   "metadata": {},
   "outputs": [
    {
     "data": {
      "text/plain": [
       "2099.32"
      ]
     },
     "execution_count": 29,
     "metadata": {},
     "output_type": "execute_result"
    }
   ],
   "source": [
    "obtener_dato(paises, \"Italia\", \"PIB\")"
   ]
  },
  {
   "cell_type": "code",
   "execution_count": 36,
   "metadata": {},
   "outputs": [
    {
     "data": {
      "text/plain": [
       "'Metrica no encontrada'"
      ]
     },
     "execution_count": 36,
     "metadata": {},
     "output_type": "execute_result"
    }
   ],
   "source": [
    "obtener_dato(paises, \"España\", \"PIB/h\")"
   ]
  },
  {
   "cell_type": "markdown",
   "metadata": {},
   "source": [
    "2. Obtén mediante la función los valores de población de Portugal y España. Súmalos y guárdalos en una variable nueva llamada `poblacion_peninsula`"
   ]
  },
  {
   "cell_type": "code",
   "execution_count": 37,
   "metadata": {},
   "outputs": [
    {
     "name": "stdout",
     "output_type": "stream",
     "text": [
      "57038602\n"
     ]
    }
   ],
   "source": [
    "poblacion_peninsula = obtener_dato(paises, \"España\", \"habitantes\") + obtener_dato(paises, \"Portugal\", \"habitantes\")\n",
    "print(poblacion_peninsula)"
   ]
  },
  {
   "cell_type": "markdown",
   "metadata": {},
   "source": [
    "3. Crea una nueva función llamada `añadir_metrica()` con 3 argumentos de entrada, el diccionario `paises`, un string llamado `pais` que por defecto tendrá el valor de `España` y un string llamado `metrica` que con el nombre de la métrica a añadir. Deberá retornar el diccionario completo, con una nueva métrica añadida en el mismo nivel del resto, llamada `PIB_por_h`, con el valor del PIB por cada habitante redondeado con un decimal. Deberá devolver el diccionario completo con la modificación realizada. Documéntala."
   ]
  },
  {
   "cell_type": "code",
   "execution_count": 43,
   "metadata": {},
   "outputs": [],
   "source": [
    "def añadir_metrica(paises, metrica, pais=\"España\"):\n",
    "    paises[pais][metrica] = round(paises[pais]['PIB'] * 10**6 / paises[pais]['habitantes'], 1)\n",
    "    return paises"
   ]
  },
  {
   "cell_type": "markdown",
   "metadata": {},
   "source": [
    "4. Utiliza la función `añadir_metrica()`, para Italia y España. Guarda el diccionario en una nueva variable llamada `paises_actualizado`."
   ]
  },
  {
   "cell_type": "code",
   "execution_count": 44,
   "metadata": {},
   "outputs": [
    {
     "name": "stdout",
     "output_type": "stream",
     "text": [
      "{'España': {'capital': 'Madrid', 'superficie': 505992, 'habitantes': 46733038, 'PIB': 1478.02, 'PIB_por_h': 31.6}, 'Francia': {'capital': 'París', 'superficie': 551695, 'habitantes': 67237407, 'PIB': 2826.29}, 'Italia': {'capital': 'Roma', 'superficie': 301340, 'habitantes': 60359546, 'PIB': 2099.32}, 'Portugal': {'capital': 'Lisboa', 'superficie': 92212, 'habitantes': 10305564, 'PIB': 248.89}}\n"
     ]
    }
   ],
   "source": [
    "paises_new = añadir_metrica(paises, \"PIB_por_h\")\n",
    "print(paises_new)"
   ]
  },
  {
   "cell_type": "code",
   "execution_count": 45,
   "metadata": {},
   "outputs": [
    {
     "name": "stdout",
     "output_type": "stream",
     "text": [
      "{'España': {'capital': 'Madrid', 'superficie': 505992, 'habitantes': 46733038, 'PIB': 1478.02, 'PIB_por_h': 31.6}, 'Francia': {'capital': 'París', 'superficie': 551695, 'habitantes': 67237407, 'PIB': 2826.29}, 'Italia': {'capital': 'Roma', 'superficie': 301340, 'habitantes': 60359546, 'PIB': 2099.32, 'PIB_por_h': 34.8}, 'Portugal': {'capital': 'Lisboa', 'superficie': 92212, 'habitantes': 10305564, 'PIB': 248.89}}\n"
     ]
    }
   ],
   "source": [
    "paises_actualizado = añadir_metrica(paises_new, \"PIB_por_h\", \"Italia\")\n",
    "print(paises_actualizado)"
   ]
  },
  {
   "cell_type": "markdown",
   "metadata": {},
   "source": [
    "### Ejercicio 4 (2 puntos)\n",
    "\n",
    "Crea una clase llamada `Movil()`. Todos los móviles tendran:\n",
    "* Batería (bool) = True\n",
    "\n",
    "El resto de atributos serán particulares:\n",
    "* marca (str)\n",
    "* carga (float): porcentaje de batería de 0 a 100, por defecto 50.0\n",
    "* camara (int) : Nº de megapixels\n",
    "* memoria (int): Nº de fotos totales que se pueden almacenar\n",
    "\n",
    "1. Deberás crear el método de `cargar()`, lo que hará será incrementar la batería un 30%. Si llega al 100% no aumentará más y devolverá un mensaje de `Batería cargada`. Deberá devolver el estado de la batería tras cargar.\n",
    "2. Deberás crear el método de `hacer_foto()`, con un argumento de entrada llamado `n_fotos` de tipo entero que será el número de fotos a realizar. Cada una de esas fotos, ocuparán memoria, por lo que deberá actualizar su atributo. Deberá devolver la memoria restante, y en caso de que se quede sin memoria, se realizarán las fotos que se puedan almacenar y devolverá por pantalla `Memoria insuficiente` junto con el número de fotos que se han quedado en cola sin realizar. Documenta la clase"
   ]
  },
  {
   "cell_type": "code",
   "execution_count": 46,
   "metadata": {},
   "outputs": [],
   "source": [
    "class Movil:\n",
    "\n",
    "    bateria = True\n",
    "\n",
    "    def __init__(self, marca, camara, memoria, carga=50.0):\n",
    "        self.marca = marca\n",
    "        self.camara = camara\n",
    "        self.memoria = memoria\n",
    "        self.carga = carga\n",
    "\n",
    "    def cargar(self):\n",
    "        if self.carga + 30.0 <= 100:\n",
    "            self.carga =  self.carga + 30.0\n",
    "        else:\n",
    "            self.carga = 100\n",
    "            print(\"Batería cargada\")\n",
    "        return self.carga\n",
    "    \n",
    "    def hacer_fotos(self, n_fotos):\n",
    "        if self.memoria < n_fotos:\n",
    "            print(\"Memoria insuficiente\")\n",
    "            fotos_cola = n_fotos - self.memoria\n",
    "            self.memoria = 0\n",
    "            print(fotos_cola, \"fotos en cola\")\n",
    "        else:\n",
    "            self.memoria = self.memoria - n_fotos\n",
    "        return self.memoria\n"
   ]
  },
  {
   "cell_type": "markdown",
   "metadata": {},
   "source": [
    "\n",
    "3. Crea 3 objetos a partir de la clase, un \"Samsung\" con un 45,5% de carga, un \"Xiaomi\" y un \"Apple\". Todos ellos tendrán 1000 de memoria, menos el Apple que tendrá 500.\n"
   ]
  },
  {
   "cell_type": "code",
   "execution_count": 56,
   "metadata": {},
   "outputs": [],
   "source": [
    "samsung = Movil(\"Samsung\", 100, 1000, 45.5)\n",
    "xiaomi = Movil(\"Xiaomi\", 100, 1000)\n",
    "apple = Movil(\"Apple\", 100, 500)"
   ]
  },
  {
   "cell_type": "markdown",
   "metadata": {},
   "source": [
    "4. Carga los 3 móviles hasta que muestre el mensaje de que la batería está cargada y muestra por pantalla su batería. Realiza 800 fotos con los 3 móviles utilizando un `input()` y comprueba el atributo de memoria."
   ]
  },
  {
   "cell_type": "code",
   "execution_count": 53,
   "metadata": {},
   "outputs": [
    {
     "name": "stdout",
     "output_type": "stream",
     "text": [
      "75.5\n",
      "Batería cargada\n",
      "100\n"
     ]
    }
   ],
   "source": [
    "while samsung.carga < 100:\n",
    "    print(samsung.cargar())"
   ]
  },
  {
   "cell_type": "code",
   "execution_count": 57,
   "metadata": {},
   "outputs": [
    {
     "name": "stdout",
     "output_type": "stream",
     "text": [
      "Samsung\n",
      "75.5\n",
      "Batería cargada\n",
      "100\n",
      "Xiaomi\n",
      "80.0\n",
      "Batería cargada\n",
      "100\n",
      "Apple\n",
      "80.0\n",
      "Batería cargada\n",
      "100\n"
     ]
    }
   ],
   "source": [
    "moviles = [samsung, xiaomi, apple]\n",
    "\n",
    "for movil in moviles:\n",
    "    print(movil.marca)\n",
    "    while movil.carga < 100:\n",
    "        print(movil.cargar())"
   ]
  },
  {
   "cell_type": "code",
   "execution_count": 60,
   "metadata": {},
   "outputs": [
    {
     "name": "stdout",
     "output_type": "stream",
     "text": [
      "1000\n",
      "200\n",
      "200\n"
     ]
    }
   ],
   "source": [
    "print(samsung.memoria)\n",
    "print(samsung.hacer_fotos(int(input(\"Cuantas fotos\"))))\n",
    "print(samsung.memoria)"
   ]
  },
  {
   "cell_type": "code",
   "execution_count": 61,
   "metadata": {},
   "outputs": [
    {
     "name": "stdout",
     "output_type": "stream",
     "text": [
      "Samsung\n",
      "Memoria insuficiente\n",
      "600 fotos en cola\n",
      "0\n",
      "0\n",
      "Xiaomi\n",
      "200\n",
      "200\n",
      "Apple\n",
      "Memoria insuficiente\n",
      "300 fotos en cola\n",
      "0\n",
      "0\n"
     ]
    }
   ],
   "source": [
    "for movil in moviles:\n",
    "    print(movil.marca)\n",
    "    print(movil.hacer_fotos(int(input(\"Cuantas fotos\"))))\n",
    "    print(movil.memoria)"
   ]
  },
  {
   "attachments": {},
   "cell_type": "markdown",
   "metadata": {},
   "source": [
    "¡Has terminado!\n",
    "\n",
    "Adjunta este fichero en **-->[Enlace al test](https://forms.gle/ieFsfaw3BTLnWGnQ7)<--**"
   ]
  }
 ],
 "metadata": {
  "kernelspec": {
   "display_name": "Python 3.7.4 64-bit",
   "language": "python",
   "name": "python3"
  },
  "language_info": {
   "codemirror_mode": {
    "name": "ipython",
    "version": 3
   },
   "file_extension": ".py",
   "mimetype": "text/x-python",
   "name": "python",
   "nbconvert_exporter": "python",
   "pygments_lexer": "ipython3",
   "version": "3.11.3"
  },
  "orig_nbformat": 4,
  "vscode": {
   "interpreter": {
    "hash": "90139cb9a825bf3d63f6f6704e828dbd1ff7edbd4d0c6e906a71235d6efc74af"
   }
  }
 },
 "nbformat": 4,
 "nbformat_minor": 2
}
