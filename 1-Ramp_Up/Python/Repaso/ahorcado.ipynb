{
 "cells": [
  {
   "attachments": {},
   "cell_type": "markdown",
   "metadata": {},
   "source": [
    "## Juego del Ahorcado\n",
    "Desarrolla el juego del ahorcado en python. En cada turno irá mostrando por pantalla ```_ _ _ _ _``` las rayas bajas correspondientes al número de letras que tiene la palabra a adivinar. El usuario deberá insertar una letra y, si esa letra existe, se mostrará o mostrarán las letras acertadas ```S _ S _ _``` en sus posiciones correspondientes. \n",
    "\n",
    "Si falla, se mostrará el número de errores que lleva y, si lleva x errores, entonces se mostrará \"Fin del juego\"."
   ]
  },
  {
   "cell_type": "markdown",
   "metadata": {},
   "source": [
    "1. Inicializa el juego: declara una palabra a adivinar y muestra por pantalla la palabra oculta.\n"
   ]
  },
  {
   "cell_type": "markdown",
   "metadata": {},
   "source": [
    "\n",
    "```python\n",
    "_ _ _ _ _ _ _ _\n",
    "```"
   ]
  },
  {
   "cell_type": "code",
   "execution_count": 15,
   "metadata": {},
   "outputs": [],
   "source": [
    "p_adivinar = \"bootcamp\".upper()"
   ]
  },
  {
   "cell_type": "code",
   "execution_count": 2,
   "metadata": {},
   "outputs": [
    {
     "data": {
      "text/plain": [
       "8"
      ]
     },
     "execution_count": 2,
     "metadata": {},
     "output_type": "execute_result"
    }
   ],
   "source": [
    "len(p_adivinar)"
   ]
  },
  {
   "cell_type": "code",
   "execution_count": 10,
   "metadata": {},
   "outputs": [
    {
     "name": "stdout",
     "output_type": "stream",
     "text": [
      "_ _ _ _ _ _ _ _\n"
     ]
    }
   ],
   "source": [
    "p_oculta = list(\"_\" * len(p_adivinar))\n",
    "print(*p_oculta)"
   ]
  },
  {
   "cell_type": "code",
   "execution_count": 12,
   "metadata": {},
   "outputs": [
    {
     "name": "stdout",
     "output_type": "stream",
     "text": [
      "_ _ _ _ _ _ _ _\n"
     ]
    }
   ],
   "source": [
    "p_oculta = []\n",
    "\n",
    "for x in p_adivinar:\n",
    "    p_oculta.append(\"_\")\n",
    "\n",
    "print(*p_oculta)"
   ]
  },
  {
   "cell_type": "code",
   "execution_count": 11,
   "metadata": {},
   "outputs": [
    {
     "name": "stdout",
     "output_type": "stream",
     "text": [
      "_ _ _ _ _ _ _ _\n"
     ]
    }
   ],
   "source": [
    "p_oculta = [\"_\" for x in p_adivinar]\n",
    "print(*p_oculta)"
   ]
  },
  {
   "cell_type": "code",
   "execution_count": 16,
   "metadata": {},
   "outputs": [
    {
     "name": "stdout",
     "output_type": "stream",
     "text": [
      "BOOTCAMP\n",
      "_ _ _ _ _ _ _ _\n"
     ]
    }
   ],
   "source": [
    "print(p_adivinar)\n",
    "print(*p_oculta)"
   ]
  },
  {
   "cell_type": "markdown",
   "metadata": {},
   "source": [
    "2. Funcionamiento turnos: mediante un bucle genera el sistema de turnos donde el usuario introduce una letra y le va mostrando su progreso y sus vidas."
   ]
  },
  {
   "cell_type": "code",
   "execution_count": 23,
   "metadata": {},
   "outputs": [],
   "source": [
    "vidas = 3\n",
    "\n",
    "while vidas > 0:\n",
    "    break\n",
    "    # pedir al usuario una letra\n",
    "    # comprobar si ha acertado\n",
    "    # mostrar su acierto o fallo"
   ]
  },
  {
   "cell_type": "code",
   "execution_count": 29,
   "metadata": {},
   "outputs": [
    {
     "name": "stdout",
     "output_type": "stream",
     "text": [
      "T\n"
     ]
    }
   ],
   "source": [
    "# pedir al usuario una letra\n",
    "letra_usuario = input(\"Introduzca una letra\").upper()\n",
    "print(letra_usuario)"
   ]
  },
  {
   "cell_type": "code",
   "execution_count": 27,
   "metadata": {},
   "outputs": [
    {
     "name": "stdout",
     "output_type": "stream",
     "text": [
      "No has acertado\n",
      "Te queda -1 vidas\n"
     ]
    }
   ],
   "source": [
    "# comprobar si ha acertado\n",
    "if letra_usuario in p_adivinar:\n",
    "    print(\"Has acertado\")\n",
    "    # Encontrar donde está esa letra para sustituirla\n",
    "else:\n",
    "    print(\"No has acertado\")\n",
    "    vidas = vidas - 1\n",
    "    print(\"Te queda\", vidas, \"vidas\")"
   ]
  },
  {
   "cell_type": "code",
   "execution_count": 28,
   "metadata": {},
   "outputs": [
    {
     "name": "stdout",
     "output_type": "stream",
     "text": [
      "BOOTCAMP\n",
      "['_', '_', '_', '_', '_', '_', '_', '_']\n"
     ]
    }
   ],
   "source": [
    "print(p_adivinar)\n",
    "print(p_oculta)"
   ]
  },
  {
   "cell_type": "code",
   "execution_count": 31,
   "metadata": {},
   "outputs": [
    {
     "name": "stdout",
     "output_type": "stream",
     "text": [
      "_ _ _ T _ _ _ _\n"
     ]
    }
   ],
   "source": [
    "# Encontrar donde está esa letra para sustituirla\n",
    "for i, letra in enumerate(p_adivinar):\n",
    "    if letra == letra_usuario:\n",
    "        p_oculta[i] = letra\n",
    "print(*p_oculta)"
   ]
  },
  {
   "cell_type": "code",
   "execution_count": 34,
   "metadata": {},
   "outputs": [
    {
     "name": "stdout",
     "output_type": "stream",
     "text": [
      "BOOTCAMP\n",
      "_ _ _ _ _ _ _ _\n"
     ]
    }
   ],
   "source": [
    "p_adivinar = \"bootcamp\".upper()\n",
    "p_oculta = [\"_\" for x in p_adivinar]\n",
    "print(p_adivinar)\n",
    "print(*p_oculta)"
   ]
  },
  {
   "cell_type": "code",
   "execution_count": 35,
   "metadata": {},
   "outputs": [
    {
     "name": "stdout",
     "output_type": "stream",
     "text": [
      "_ _ _ _ _ _ _ _\n",
      "Has acertado\n",
      "B _ _ _ _ _ _ _\n",
      "B _ _ _ _ _ _ _\n",
      "Has acertado\n",
      "B O O _ _ _ _ _\n",
      "B O O _ _ _ _ _\n",
      "Has acertado\n",
      "B O O T _ _ _ _\n",
      "B O O T _ _ _ _\n",
      "Has acertado\n",
      "B O O T C _ _ _\n",
      "B O O T C _ _ _\n",
      "Has acertado\n",
      "B O O T C A _ _\n",
      "B O O T C A _ _\n",
      "Has acertado\n",
      "B O O T C A M _\n",
      "B O O T C A M _\n",
      "Has acertado\n",
      "B O O T C A M P\n",
      "B O O T C A M P\n",
      "Has acertado\n",
      "B O O T C A M P\n",
      "B O O T C A M P\n",
      "Has acertado\n",
      "B O O T C A M P\n",
      "B O O T C A M P\n",
      "Has acertado\n",
      "B O O T C A M P\n",
      "B O O T C A M P\n"
     ]
    }
   ],
   "source": [
    "vidas = 3\n",
    "\n",
    "while vidas > 0:\n",
    "    print(*p_oculta)\n",
    "    # pedir al usuario una letra\n",
    "    letra_usuario = input(\"Introduzca una letra\").upper()\n",
    "    # comprobar si ha acertado\n",
    "    if letra_usuario in p_adivinar:\n",
    "        print(\"Has acertado\")\n",
    "        # Encontrar donde está esa letra para sustituirla\n",
    "        for i, letra in enumerate(p_adivinar):\n",
    "            if letra == letra_usuario:\n",
    "                p_oculta[i] = letra\n",
    "        print(*p_oculta)\n",
    "    else:\n",
    "        print(\"No has acertado\")\n",
    "        vidas = vidas - 1\n",
    "        print(\"Te queda\", vidas, \"vidas\")\n",
    "        "
   ]
  },
  {
   "cell_type": "markdown",
   "metadata": {},
   "source": [
    "3. Desarrolla la finalización de la partida, tanto si gana como si pierde."
   ]
  },
  {
   "cell_type": "code",
   "execution_count": 5,
   "metadata": {},
   "outputs": [
    {
     "name": "stdout",
     "output_type": "stream",
     "text": [
      "BOOTCAMP\n",
      "_ _ _ _ _ _ _ _\n"
     ]
    }
   ],
   "source": [
    "p_adivinar = \"bootcamp\".upper()\n",
    "p_oculta = [\"_\" for x in p_adivinar]\n",
    "print(p_adivinar)\n",
    "print(*p_oculta)"
   ]
  },
  {
   "cell_type": "code",
   "execution_count": 3,
   "metadata": {},
   "outputs": [
    {
     "name": "stdout",
     "output_type": "stream",
     "text": [
      "_ _ _ _ _ _ _ _\n",
      "Has acertado\n",
      "B _ _ _ _ _ _ _\n",
      "B _ _ _ _ _ _ _\n",
      "Has acertado\n",
      "B O O _ _ _ _ _\n",
      "B O O _ _ _ _ _\n",
      "Has acertado\n",
      "B O O T _ _ _ _\n",
      "B O O T _ _ _ _\n",
      "Has acertado\n",
      "B O O T C _ _ _\n",
      "B O O T C _ _ _\n",
      "Has acertado\n",
      "B O O T C A _ _\n",
      "B O O T C A _ _\n",
      "Has acertado\n",
      "B O O T C A M _\n",
      "B O O T C A M _\n",
      "Has acertado\n",
      "B O O T C A M P\n",
      "Has ganado\n"
     ]
    }
   ],
   "source": [
    "vidas = 3\n",
    "\n",
    "while vidas > 0 and \"_\" in p_oculta:\n",
    "    print(*p_oculta)\n",
    "    # pedir al usuario una letra\n",
    "    letra_usuario = input(\"Introduzca una letra\").upper()\n",
    "    # comprobar si ha acertado\n",
    "    if letra_usuario in p_adivinar:\n",
    "        print(\"Has acertado\")\n",
    "        # Encontrar donde está esa letra para sustituirla\n",
    "        for i, letra in enumerate(p_adivinar):\n",
    "            if letra == letra_usuario:\n",
    "                p_oculta[i] = letra\n",
    "        print(*p_oculta)\n",
    "    else:\n",
    "        print(\"No has acertado\")\n",
    "        vidas = vidas - 1\n",
    "        print(\"Te queda\", vidas, \"vidas\")\n",
    "\n",
    "if vidas > 0:\n",
    "    print(\"Has ganado\")\n",
    "else:\n",
    "    print(\"Has perdido\")\n",
    "        "
   ]
  },
  {
   "cell_type": "code",
   "execution_count": 6,
   "metadata": {},
   "outputs": [
    {
     "name": "stdout",
     "output_type": "stream",
     "text": [
      "_ _ _ _ _ _ _ _\n",
      "Has acertado\n",
      "B _ _ _ _ _ _ _\n",
      "B _ _ _ _ _ _ _\n",
      "Has acertado\n",
      "B O O _ _ _ _ _\n",
      "B O O _ _ _ _ _\n",
      "Has acertado\n",
      "B O O T _ _ _ _\n",
      "B O O T _ _ _ _\n",
      "Has acertado\n",
      "B O O T C _ _ _\n",
      "B O O T C _ _ _\n",
      "Has acertado\n",
      "B O O T C A _ _\n",
      "B O O T C A _ _\n",
      "Has acertado\n",
      "B O O T C A M _\n",
      "B O O T C A M _\n",
      "Has acertado\n",
      "B O O T C A M P\n",
      "Has ganado\n"
     ]
    }
   ],
   "source": [
    "vidas = 3\n",
    "\n",
    "while vidas > 0:\n",
    "    print(*p_oculta)\n",
    "    # pedir al usuario una letra\n",
    "    letra_usuario = input(\"Introduzca una letra\").upper()\n",
    "    # comprobar si ha acertado\n",
    "    if letra_usuario in p_adivinar:\n",
    "        print(\"Has acertado\")\n",
    "        # Encontrar donde está esa letra para sustituirla\n",
    "        for i, letra in enumerate(p_adivinar):\n",
    "            if letra == letra_usuario:\n",
    "                p_oculta[i] = letra\n",
    "        print(*p_oculta)\n",
    "        if \"_\" not in p_oculta:\n",
    "            print(\"Has ganado\")\n",
    "            break\n",
    "    else:\n",
    "        print(\"No has acertado\")\n",
    "        vidas = vidas - 1\n",
    "        print(\"Te queda\", vidas, \"vidas\")\n",
    "        if vidas == 0:\n",
    "            print(\"Has perdido\")"
   ]
  },
  {
   "cell_type": "markdown",
   "metadata": {},
   "source": [
    "4. Encapsula el juego en una función llamada ```jugar_ahorcado()``` con la palabra a adivinar y el número de vidas para seleccionar la dificultad como argumentos de entrada."
   ]
  },
  {
   "cell_type": "code",
   "execution_count": 14,
   "metadata": {},
   "outputs": [],
   "source": [
    "def jugar_ahorcado(palabra, vidas):\n",
    "\n",
    "    p_adivinar = palabra.upper()\n",
    "    p_oculta = [\"_\" for x in p_adivinar]\n",
    "\n",
    "    while vidas > 0 and \"_\" in p_oculta:\n",
    "        print(*p_oculta)\n",
    "        # pedir al usuario una letra\n",
    "        letra_usuario = input(\"Introduzca una letra\").upper()\n",
    "        # comprobar si ha acertado\n",
    "        if letra_usuario in p_adivinar:\n",
    "            print(\"Has acertado\")\n",
    "            # Encontrar donde está esa letra para sustituirla\n",
    "            for i, letra in enumerate(p_adivinar):\n",
    "                if letra == letra_usuario:\n",
    "                    p_oculta[i] = letra  \n",
    "        else:\n",
    "            print(\"No has acertado\")\n",
    "            vidas = vidas - 1\n",
    "            print(\"Te queda\", vidas, \"vidas\")\n",
    "\n",
    "    if vidas > 0:\n",
    "        print(\"Has ganado\")\n",
    "        print(*p_oculta)\n",
    "    else:\n",
    "        print(\"Has perdido\")"
   ]
  },
  {
   "cell_type": "code",
   "execution_count": 12,
   "metadata": {},
   "outputs": [
    {
     "name": "stdout",
     "output_type": "stream",
     "text": [
      "_ _ _ _\n",
      "No has acertado\n",
      "Te queda 4 vidas\n",
      "_ _ _ _\n",
      "No has acertado\n",
      "Te queda 3 vidas\n",
      "_ _ _ _\n",
      "No has acertado\n",
      "Te queda 2 vidas\n",
      "_ _ _ _\n",
      "No has acertado\n",
      "Te queda 1 vidas\n",
      "_ _ _ _\n",
      "No has acertado\n",
      "Te queda 0 vidas\n",
      "Has perdido\n"
     ]
    }
   ],
   "source": [
    "jugar_ahorcado(\"Hola\", 5)"
   ]
  },
  {
   "cell_type": "code",
   "execution_count": 15,
   "metadata": {},
   "outputs": [
    {
     "name": "stdout",
     "output_type": "stream",
     "text": [
      "_ _ _ _ _ _\n",
      "Has acertado\n",
      "P _ _ _ _ _\n",
      "Has acertado\n",
      "P Y _ _ _ _\n",
      "Has acertado\n",
      "P Y T _ _ _\n",
      "Has acertado\n",
      "P Y T H _ _\n",
      "Has acertado\n",
      "P Y T H O _\n",
      "Has acertado\n",
      "Has ganado\n",
      "P Y T H O N\n"
     ]
    }
   ],
   "source": [
    "jugar_ahorcado(\"Python\", 3)"
   ]
  },
  {
   "cell_type": "code",
   "execution_count": 16,
   "metadata": {},
   "outputs": [
    {
     "name": "stdout",
     "output_type": "stream",
     "text": [
      "_ _ _ _ _\n",
      "Has acertado\n",
      "C _ _ _ _\n",
      "No has acertado\n",
      "Te queda 2 vidas\n",
      "C _ _ _ _\n",
      "Has acertado\n",
      "C L _ _ _\n",
      "Has acertado\n",
      "C L A _ _\n",
      "Has acertado\n",
      "C L A _ E\n",
      "Has acertado\n",
      "Has ganado\n",
      "C L A S E\n"
     ]
    }
   ],
   "source": [
    "jugar_ahorcado(input(\"Qué palabra\"), int(input(\"Cuántas vidas\")))"
   ]
  },
  {
   "cell_type": "code",
   "execution_count": 19,
   "metadata": {},
   "outputs": [],
   "source": [
    "def ocultar_palabra(palabra):\n",
    "    return [\"_\" for x in palabra]"
   ]
  },
  {
   "cell_type": "code",
   "execution_count": 20,
   "metadata": {},
   "outputs": [],
   "source": [
    "def sustituir_letra(letra_usuario, p_adivinar, p_oculta):\n",
    "    for i, letra in enumerate(p_adivinar):\n",
    "        if letra == letra_usuario:\n",
    "            p_oculta[i] = letra \n",
    "    return p_oculta"
   ]
  },
  {
   "cell_type": "code",
   "execution_count": 30,
   "metadata": {},
   "outputs": [],
   "source": [
    "def comprobar_letra(letra_usuario, p_adivinar, p_oculta, vidas):\n",
    "    if letra_usuario in p_adivinar:\n",
    "        print(\"Has acertado\")\n",
    "        p_oculta = sustituir_letra(letra_usuario, p_adivinar, p_oculta)\n",
    "    else:\n",
    "        print(\"No has acertado\")\n",
    "        vidas = vidas - 1\n",
    "        print(\"Te queda\", vidas, \"vidas\")\n",
    "    return p_oculta, vidas"
   ]
  },
  {
   "cell_type": "code",
   "execution_count": 26,
   "metadata": {},
   "outputs": [],
   "source": [
    "def mensaje_final(vidas, p_oculta):\n",
    "    if vidas > 0:\n",
    "        print(\"Has ganado\")\n",
    "        print(*p_oculta)\n",
    "    else:\n",
    "        print(\"Has perdido\")"
   ]
  },
  {
   "cell_type": "code",
   "execution_count": 31,
   "metadata": {},
   "outputs": [],
   "source": [
    "def jugar_ahorcado(palabra, vidas):\n",
    "\n",
    "    p_adivinar = palabra.upper()\n",
    "    p_oculta = ocultar_palabra(p_adivinar)\n",
    "\n",
    "    while vidas > 0 and \"_\" in p_oculta:\n",
    "        print(*p_oculta)\n",
    "        # pedir al usuario una letra\n",
    "        letra_usuario = input(\"Introduzca una letra\").upper()\n",
    "        p_oculta, vidas = comprobar_letra(letra_usuario, p_adivinar, p_oculta, vidas)\n",
    "\n",
    "    mensaje_final(vidas, p_oculta)"
   ]
  },
  {
   "cell_type": "code",
   "execution_count": 33,
   "metadata": {},
   "outputs": [
    {
     "name": "stdout",
     "output_type": "stream",
     "text": [
      "_ _ _ _ _ _ _\n",
      "No has acertado\n",
      "Te queda 2 vidas\n",
      "_ _ _ _ _ _ _\n",
      "No has acertado\n",
      "Te queda 1 vidas\n",
      "_ _ _ _ _ _ _\n",
      "Has acertado\n",
      "_ _ N _ _ _ N\n",
      "No has acertado\n",
      "Te queda 0 vidas\n",
      "Has perdido\n"
     ]
    }
   ],
   "source": [
    "jugar_ahorcado(input(\"Qué palabra\"), int(input(\"Cuántas vidas\")))"
   ]
  }
 ],
 "metadata": {
  "kernelspec": {
   "display_name": "Python 3.7.4 64-bit",
   "language": "python",
   "name": "python3"
  },
  "language_info": {
   "codemirror_mode": {
    "name": "ipython",
    "version": 3
   },
   "file_extension": ".py",
   "mimetype": "text/x-python",
   "name": "python",
   "nbconvert_exporter": "python",
   "pygments_lexer": "ipython3",
   "version": "3.11.3"
  },
  "orig_nbformat": 4,
  "vscode": {
   "interpreter": {
    "hash": "90139cb9a825bf3d63f6f6704e828dbd1ff7edbd4d0c6e906a71235d6efc74af"
   }
  }
 },
 "nbformat": 4,
 "nbformat_minor": 2
}
